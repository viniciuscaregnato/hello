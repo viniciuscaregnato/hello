{
 "cells": [
  {
   "cell_type": "code",
   "execution_count": 89,
   "id": "9924bd47-2baf-4bc7-a014-7eb1da5ccd85",
   "metadata": {},
   "outputs": [
    {
     "data": {
      "text/plain": [
       "'\\nPrograma Hello\\nImprima a frase: \"Hello World!\"\\nAutor: Vinicius\\nData: 25.02.2025\\nVersão: 0.0.4\\nNovidades da versão\\n\\n25/02/2025\\nNesta versão: \\n1. Nesta versão o usuário poderá entrar com seu nome, para poder ser cumprimentado pelo programa.\\n2. Utilizamos fstrings para escrever um código mais limpo.\\n'"
      ]
     },
     "execution_count": 89,
     "metadata": {},
     "output_type": "execute_result"
    }
   ],
   "source": [
    "\"\"\"\n",
    "Programa Hello\n",
    "Imprima a frase: \"Hello World!\"\n",
    "Autor: Vinicius\n",
    "Data: 25.02.2025\n",
    "Versão: 0.0.4\n",
    "Novidades da versão\n",
    "\n",
    "25/02/2025\n",
    "Nesta versão: \n",
    "1. Nesta versão o usuário poderá entrar com seu nome, para poder ser cumprimentado pelo programa.\n",
    "2. Utilizamos fstrings para escrever um código mais limpo.\n",
    "\"\"\""
   ]
  },
  {
   "cell_type": "code",
   "execution_count": 92,
   "id": "1516c577-a8e0-4908-9237-da7341a49336",
   "metadata": {},
   "outputs": [],
   "source": [
    "# Alocação de memoria\n",
    "\n",
    "nome_usuario = \"\"\n",
    "frase = \"\""
   ]
  },
  {
   "cell_type": "code",
   "execution_count": 112,
   "id": "71816368-9c14-4f9a-bca0-788926e5043b",
   "metadata": {},
   "outputs": [
    {
     "name": "stdin",
     "output_type": "stream",
     "text": [
      "\n",
      "qual o seu nome:  vinicius\n"
     ]
    }
   ],
   "source": [
    "# Entrada de dados\n",
    "\n",
    "nome_usuario = input(\"\\nqual o seu nome: \")"
   ]
  },
  {
   "cell_type": "code",
   "execution_count": 116,
   "id": "a6d2c382-0a4c-4e76-a54d-38465f0a80f7",
   "metadata": {},
   "outputs": [],
   "source": [
    "# Processamento de dados\n",
    "\n",
    "frase = f\"Hello, {nome_usuario}\""
   ]
  },
  {
   "cell_type": "code",
   "execution_count": 118,
   "id": "6eddf727-982e-4737-929a-fac01f087a3a",
   "metadata": {},
   "outputs": [
    {
     "name": "stdout",
     "output_type": "stream",
     "text": [
      "Hello, vinicius\n"
     ]
    }
   ],
   "source": [
    "#Saída de dados\n",
    "\n",
    "\n",
    "print(frase)"
   ]
  }
 ],
 "metadata": {
  "kernelspec": {
   "display_name": "Python [conda env:base] *",
   "language": "python",
   "name": "conda-base-py"
  },
  "language_info": {
   "codemirror_mode": {
    "name": "ipython",
    "version": 3
   },
   "file_extension": ".py",
   "mimetype": "text/x-python",
   "name": "python",
   "nbconvert_exporter": "python",
   "pygments_lexer": "ipython3",
   "version": "3.12.7"
  }
 },
 "nbformat": 4,
 "nbformat_minor": 5
}
